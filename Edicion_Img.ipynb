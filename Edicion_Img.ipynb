{
 "cells": [
  {
   "cell_type": "code",
   "execution_count": 1,
   "id": "ecadc969",
   "metadata": {},
   "outputs": [],
   "source": [
    "import cv2 as cv\n",
    "import matplotlib.pyplot as plt"
   ]
  },
  {
   "cell_type": "code",
   "execution_count": 2,
   "id": "bd3b1440",
   "metadata": {
    "scrolled": true
   },
   "outputs": [],
   "source": [
    "image = cv.imread('opencv.png')\n",
    "image = image[132:385 , 5:470]\n",
    "#plt.imshow(image)\n",
    "#plt.show() "
   ]
  },
  {
   "cell_type": "code",
   "execution_count": 3,
   "id": "11555e25",
   "metadata": {
    "scrolled": false
   },
   "outputs": [],
   "source": [
    "def obtenerLetras(imagen):\n",
    "    col = 0\n",
    "    i = 0\n",
    "    lista = []\n",
    "    for i in range(11):\n",
    "        letra = imagen[4:90 , col+3:col+40]\n",
    "        #plt.imshow(letra)\n",
    "        #plt.show()\n",
    "        lista.append(letra)\n",
    "        col+=42\n",
    "    return lista"
   ]
  },
  {
   "cell_type": "code",
   "execution_count": 4,
   "id": "1fad784f",
   "metadata": {
    "scrolled": true
   },
   "outputs": [],
   "source": [
    "nombre = image[2:42 , 0:465]\n",
    "#plt.imshow(nombre)\n",
    "#plt.show() \n",
    "lista_nombre = obtenerLetras(nombre)"
   ]
  },
  {
   "cell_type": "code",
   "execution_count": 5,
   "id": "2b017654",
   "metadata": {
    "scrolled": true
   },
   "outputs": [],
   "source": [
    "apellido1 = image[107:145 , 0:465]\n",
    "#plt.imshow(apellido1)\n",
    "#plt.show()\n",
    "lista_apellido1 = obtenerLetras(apellido1)"
   ]
  },
  {
   "cell_type": "code",
   "execution_count": 6,
   "id": "bdbccb87",
   "metadata": {},
   "outputs": [],
   "source": [
    "apellido2 = image[212:247 , 2:465]\n",
    "#plt.imshow(apellido2)\n",
    "#plt.show()\n",
    "lista_apellido2 = obtenerLetras(apellido2)"
   ]
  }
 ],
 "metadata": {
  "kernelspec": {
   "display_name": "Python 3 (ipykernel)",
   "language": "python",
   "name": "python3"
  },
  "language_info": {
   "codemirror_mode": {
    "name": "ipython",
    "version": 3
   },
   "file_extension": ".py",
   "mimetype": "text/x-python",
   "name": "python",
   "nbconvert_exporter": "python",
   "pygments_lexer": "ipython3",
   "version": "3.7.11"
  }
 },
 "nbformat": 4,
 "nbformat_minor": 5
}
