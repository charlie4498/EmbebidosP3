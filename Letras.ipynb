{
 "cells": [
  {
   "cell_type": "code",
   "execution_count": 74,
   "id": "8ab69bcf",
   "metadata": {},
   "outputs": [],
   "source": [
    "import os\n",
    "import numpy as np\n",
    "import cv2 as cv\n",
    "import tensorflow as tf\n",
    "from tensorflow import keras\n",
    "import matplotlib.pyplot as plt"
   ]
  },
  {
   "cell_type": "code",
   "execution_count": 75,
   "id": "90094b5a",
   "metadata": {},
   "outputs": [],
   "source": [
    "#Cargar modelo\n",
    "model = keras.models.load_model('emnist_v5.h5')"
   ]
  },
  {
   "cell_type": "code",
   "execution_count": 91,
   "id": "bc644bf6",
   "metadata": {},
   "outputs": [
    {
     "data": {
      "image/png": "[encoded data removed]",
      "text/plain": [
       "<Figure size 432x288 with 1 Axes>"
      ]
     },
     "metadata": {
      "needs_background": "light"
     },
     "output_type": "display_data"
    },
    {
     "data": {
      "image/png": "[encoded data removed]",
      "text/plain": [
       "<Figure size 432x288 with 1 Axes>"
      ]
     },
     "metadata": {
      "needs_background": "light"
     },
     "output_type": "display_data"
    },
    {
     "name": "stdout",
     "output_type": "stream",
     "text": [
      "1/1 [==============================] - 0s 196ms/step\n",
      "La letra es una I\n"
     ]
    }
   ],
   "source": [
    "image= cv.imread('N.png')\n",
    "imagegray = cv.cvtColor(cv.subtract(255, image) , cv.COLOR_BGR2GRAY)\n",
    "imageN= cv.resize(imagegray, (28,28), interpolation = cv.INTER_LINEAR)/255\n",
    "\n",
    "plt.imshow(image)\n",
    "plt.show()\n",
    "\n",
    "plt.imshow(imageN, cmap='Greys_r')\n",
    "plt.show()\n",
    "\n",
    "Test=imageN.reshape(1,28,28,1)\n",
    "predicted1 = model.predict(Test)\n",
    "predicted=np.argmax(predicted1)\n",
    "\n",
    "label=['','A','B','C','D','E','F','G','H','I','J','K','L','M','N','O','P','Q','R','S','T','U','V','W','X','Y','Z']\n",
    "print( \"La letra es una\"+\" \"+ label[predicted])    "
   ]
  },
  {
   "cell_type": "code",
   "execution_count": 56,
   "id": "7802bd05",
   "metadata": {},
   "outputs": [],
   "source": [
    "from scipy import io as sio\n",
    "from sklearn.model_selection import train_test_split\n",
    "from sklearn.utils import shuffle\n",
    "from time import time\n",
    "from keras.callbacks import TensorBoard"
   ]
  },
  {
   "cell_type": "code",
   "execution_count": 57,
   "id": "a5d6fe99",
   "metadata": {},
   "outputs": [
    {
     "name": "stdout",
     "output_type": "stream",
     "text": [
      "(103958, 28, 28) (103958,) (20842, 28, 28) (20842,) (20800, 28, 28) (20800,)\n"
     ]
    }
   ],
   "source": [
    "#load dataset\n",
    "mat = sio.loadmat('data/emnist-letters.mat')\n",
    "data = mat['dataset']\n",
    "# https://stackoverflow.com/questions/51125969/loading-emnist-letters-dataset/53547262#53547262\n",
    "X_train = data['train'][0,0]['images'][0,0]\n",
    "y_train = data['train'][0,0]['labels'][0,0]\n",
    "X_test = data['test'][0,0]['images'][0,0]\n",
    "y_test = data['test'][0,0]['labels'][0,0]\n",
    "# reshape the data into 2D, 28x28 sized images instead of a 1D 784 array\n",
    "# to get the correct image orientation, need to do a numpy reshape using Fortran ordering\n",
    "# (Matlab uses column-major ordering, just like Fortran\n",
    "# https://stackoverflow.com/questions/51125969/loading-emnist-letters-dataset/53547262#53547262\n",
    "x_train = X_train.reshape((X_train.shape[0], 28, 28), order='F')\n",
    "y_train = y_train.reshape(-1)\n",
    "x_test = X_test.reshape((X_test.shape[0], 28, 28), order = 'F')   \n",
    "y_test = y_test.reshape(-1)\n",
    "# the data, split between train and validation sets\n",
    "x_train, x_valid, y_train, y_valid = train_test_split(x_train, y_train, test_size = 0.167, random_state = 0, shuffle=True)\n",
    "# we want to have the same size for valid and test\n",
    "print(x_train.shape,y_train.shape, x_valid.shape,y_valid.shape,x_test.shape,y_test.shape)"
   ]
  },
  {
   "cell_type": "code",
   "execution_count": 94,
   "id": "06cbba3c",
   "metadata": {},
   "outputs": [
    {
     "name": "stdout",
     "output_type": "stream",
     "text": [
      "21\n"
     ]
    },
    {
     "data": {
      "image/png": "[encoded data removed]",
      "text/plain": [
       "<Figure size 432x288 with 1 Axes>"
      ]
     },
     "metadata": {
      "needs_background": "light"
     },
     "output_type": "display_data"
    },
    {
     "name": "stdout",
     "output_type": "stream",
     "text": [
      "1/1 [==============================] - 0s 197ms/step\n",
      "Se predijo una U Pero en realidad es una U\n"
     ]
    }
   ],
   "source": [
    "Validation= x_valid[14830]\n",
    "Validationlabel= y_valid[14830]\n",
    "\n",
    "ValidationN= Validation/255\n",
    "print(Validationlabel)\n",
    "\n",
    "plt.imshow(ValidationN, cmap='Greys_r')\n",
    "plt.show()\n",
    "\n",
    "ValTest=ValidationN.reshape(1,28,28,1)\n",
    "predicted1 = model.predict(ValTest)\n",
    "predicted=np.argmax(predicted1)\n",
    "\n",
    "label=['','A','B','C','D','E','F','G','H','I','J','K','L','M','N','O','P','Q','R','S','T','U','V','W','X','Y','Z']\n",
    "print( \"Se predijo una\"+\" \"+ label[predicted] + \" \"+ \"Y en realidad es una\" + \" \" + label[Validationlabel])  "
   ]
  }
 ],
 "metadata": {
  "kernelspec": {
   "display_name": "Python 3 (ipykernel)",
   "language": "python",
   "name": "python3"
  },
  "language_info": {
   "codemirror_mode": {
    "name": "ipython",
    "version": 3
   },
   "file_extension": ".py",
   "mimetype": "text/x-python",
   "name": "python",
   "nbconvert_exporter": "python",
   "pygments_lexer": "ipython3",
   "version": "3.7.11"
  }
 },
 "nbformat": 4,
 "nbformat_minor": 5
}
